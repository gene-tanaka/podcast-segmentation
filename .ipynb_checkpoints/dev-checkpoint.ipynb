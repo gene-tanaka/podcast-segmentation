{
 "cells": [
  {
   "cell_type": "code",
   "execution_count": 1,
   "metadata": {},
   "outputs": [],
   "source": [
    "from wiki_loader import WikipediaDataSet\n",
    "import io"
   ]
  },
  {
   "cell_type": "code",
   "execution_count": 2,
   "metadata": {},
   "outputs": [],
   "source": [
    "'''\n",
    "The following function was taken from https://fasttext.cc/docs/en/english-vectors.html\n",
    "'''\n",
    "def load_vectors(fname):\n",
    "    fin = io.open(fname, 'r', encoding='utf-8', newline='\\n', errors='ignore')\n",
    "    n, d = map(int, fin.readline().split())\n",
    "    data = {}\n",
    "    for line in fin:\n",
    "        tokens = line.rstrip().split(' ')\n",
    "        data[tokens[0]] = map(float, tokens[1:])\n",
    "    return data"
   ]
  },
  {
   "cell_type": "code",
   "execution_count": 12,
   "metadata": {},
   "outputs": [],
   "source": [
    "# word2vecModel = load_vectors('wiki-news-300d-1M-subword.vec')"
   ]
  },
  {
   "cell_type": "code",
   "execution_count": 3,
   "metadata": {},
   "outputs": [],
   "source": [
    "# word2vecModel = {}"
   ]
  },
  {
   "cell_type": "code",
   "execution_count": 4,
   "metadata": {},
   "outputs": [],
   "source": [
    "from pathlib2 import Path"
   ]
  },
  {
   "cell_type": "code",
   "execution_count": 5,
   "metadata": {},
   "outputs": [],
   "source": [
    "folder = './data'"
   ]
  },
  {
   "cell_type": "code",
   "execution_count": 6,
   "metadata": {},
   "outputs": [],
   "source": [
    "def get_files(path):\n",
    "    all_objects = Path(path).glob('**/*')\n",
    "    files = [str(p) for p in all_objects if p.is_file()]\n",
    "    return files"
   ]
  },
  {
   "cell_type": "code",
   "execution_count": 7,
   "metadata": {},
   "outputs": [],
   "source": [
    "files = get_files(folder)"
   ]
  },
  {
   "cell_type": "code",
   "execution_count": 8,
   "metadata": {},
   "outputs": [
    {
     "data": {
      "text/plain": [
       "'data/599217'"
      ]
     },
     "execution_count": 8,
     "metadata": {},
     "output_type": "execute_result"
    }
   ],
   "source": [
    "files[0]"
   ]
  },
  {
   "cell_type": "code",
   "execution_count": 9,
   "metadata": {},
   "outputs": [],
   "source": [
    "def get_sentences(path, high_granularity=True):\n",
    "    file = open(str(path), \"r\")\n",
    "    raw_content = file.read()\n",
    "    file.close()\n",
    "\n",
    "    clean_txt = raw_content.strip()\n",
    "    sentences = [s for s in clean_txt.split(\"\\n\") if len(s) > 0 and s != \"\\n\"]\n",
    "    \n",
    "    return sentences"
   ]
  },
  {
   "cell_type": "code",
   "execution_count": 10,
   "metadata": {
    "scrolled": true
   },
   "outputs": [
    {
     "data": {
      "text/plain": [
       "['========,1,preface.',\n",
       " 'WTTE, channel 28, is a Fox-affiliated television station located in Columbus, Ohio, USA.',\n",
       " \"WTTE's broadcast license is owned by Cunningham Broadcasting, while the station's operations are controlled via local marketing agreement (LMA) by the Sinclair Broadcast Group, WTTE's original owners and present proprietors of ABC affiliate WSYX (channel 6).\",\n",
       " 'Sinclar Broadcast Group also operates Chillicothe-licensed, CW-affiliated WWHO (channel 53), through a shared services agreement with Manhan Media.',\n",
       " \"The three stations share studios on Dublin Road in Grandview Heights, a suburb of Columbus; WTTE and WSYX also share a transmitter on Columbus' west side.\",\n",
       " '========,2,History.',\n",
       " 'WTTE began operations on June 1, 1984 as the first general-entertainment independent station in central Ohio.',\n",
       " 'The station was founded by the Commercial Radio Institute, a subsidiary of the Baltimore-based Sinclair Broadcast Group.',\n",
       " 'WTTE quickly became the dominant independent station in the area largely because its programming policy was far less conservative than that of the other independent in the area, Christian-oriented, Newark-licensed WSFJ-TV (channel 51).',\n",
       " 'Channel 28 is a charter affiliate of Fox, having joined the network at its launch on October 9, 1986.',\n",
       " 'From 1995 until 1997, it carried a secondary affiliation with UPN which was then picked up by WWHO.',\n",
       " 'In 1996, Sinclair merged with River City Broadcasting, owner of WSYX.',\n",
       " 'Federal Communications Commission (FCC) rules at the time did not allow one person to own two stations in a single market.',\n",
       " 'Sinclair kept the longer-established WSYX and nominally sold WTTE to Glencairn, Ltd. owned by former Sinclair executive Edwin Edwards.',\n",
       " \"However, nearly all of Glencairn's stock was held by the Smith family, founders and owners of Sinclair.\",\n",
       " 'In effect, Sinclair still owned WTTE, and now had a duopoly in Columbus in violation of FCC rules.',\n",
       " \"Sinclair and Glencairn further circumvented the rules by moving WTTE's operations into WSYX' studios under a local marketing agreement, with WSYX as senior partner.\",\n",
       " 'Glencairn owned ten other stations—all in markets where Sinclair also had a station.',\n",
       " 'Sinclair was eventually fined $40,000 for its illegal control of Glencairn.',\n",
       " 'The two companies attempted to merge in 2001 after the FCC allowed duopolies.',\n",
       " 'However, the FCC would not allow Sinclair to repurchase WTTE.',\n",
       " 'The FCC does not allow duopolies between two of the four highest-rated stations in a single market.',\n",
       " 'Also the Columbus market, despite its relatively large size, has only seven full-power stations—too few to legally permit a duopoly.',\n",
       " 'WTTE thus remained under the banner of Glencairn, which was then renamed Cunningham Broadcasting.',\n",
       " \"However, the Smith family still controls nearly all of Cunningham's stock, so Sinclair still effectively has a duopoly in Columbus.\",\n",
       " 'By nearly all accounts, Sinclair has used Glencairn / Cunningham as a shell corporation to evade FCC ownership rules.',\n",
       " 'In 2006, all Sinclair-controlled Fox affiliates including WTTE extended their affiliation contracts until at least March 2012.',\n",
       " 'WTTE-DT2 was formerly an affiliate of The Tube, a 24-hour digital music channel.',\n",
       " 'Like other Sinclair-owned stations, this was dropped in January 2007, due to a disagreement between Sinclair and The Tube over E/I programming.',\n",
       " 'The network ceased operations that October due to the lack of advertising.',\n",
       " 'According to Nielsen Media Research in the May 2011 ratings period, WTTE was the 2nd most watched Fox affiliate in the United States in prime time.',\n",
       " \"The station remains intensely competitive in the Columbus television market with it remaining an extremely strong competitor against WBNS-TV and WCMH-TV averaging roughly 300,000 viewers each night during the station's 10 o'clock newscast despite its earlier time slot.\",\n",
       " 'WTTE typically wins the demographic viewership battle each and every ratings period.',\n",
       " 'The demographic win is a much sought after attribute for television sales associates in the area for local advertising purposes.',\n",
       " 'On October 18, 2010, the station reactivated their 28.2 digital subchannel for the first time since December 2006, with theCoolTV, a music video network which, unlike The Tube, had E/I programming pre-inserted as part of their national schedule.',\n",
       " 'The network was discontinued as of August 31, 2012.',\n",
       " \"WTTE is also considered an alternate ABC affiliate airing that network's programs when WSYX is unable to do so such as during a breaking news emergency or local special.\",\n",
       " \"On May 15, 2012, Sinclair and Fox agreed to a five-year extension to the network's affiliation agreement with the 19 Fox stations owned or controlled by Sinclair, including WTTE, allowing them to continue carrying the network's programming through 2017.\",\n",
       " 'On June 23, 2014, Sinclair signed a deal with Sony Pictures Entertainment to carry the GetTV network as a subchannel on 33 of their stations; WTTE was one such station, and the 28.2 subchannel was reactivated.',\n",
       " \"On June 1, 2017, Sinclair replaced GetTV with TBD (TV network) on WTTE's 28.2 subchannel.\",\n",
       " 'TBD is operated by Sinclair Television Group, a subsidiary of Sinclair Broadcast Group.',\n",
       " '========,2,Digital television.',\n",
       " '========,3,Analog-to-digital conversion.',\n",
       " 'WTTE was one of only two full-power television stations in the Columbus market (the other being WWHO) that honored the original DTV transition date of February 17, 2009.',\n",
       " 'The station shut down its analog signal, over UHF channel 28, at 11:59\\xa0p.m. on that date, as part of the federally mandated transition from analog to digital television.',\n",
       " \"The station's digital signal remained on its pre-transition UHF channel 36, using PSIP to display WTTE's virtual channel as 28 on digital television receivers.\",\n",
       " 'However, until March 3, as part of the SAFER Act, analog channel 28 aired a repeating loop of a short informational film (in both English and Spanish) about the DTV changeover and how to upgrade to digital television.',\n",
       " 'Analog channel 28 has since gone dark.']"
      ]
     },
     "execution_count": 10,
     "metadata": {},
     "output_type": "execute_result"
    }
   ],
   "source": [
    "get_sentences(files[0])"
   ]
  },
  {
   "cell_type": "code",
   "execution_count": 11,
   "metadata": {
    "scrolled": true
   },
   "outputs": [
    {
     "data": {
      "text/plain": [
       "48"
      ]
     },
     "execution_count": 11,
     "metadata": {},
     "output_type": "execute_result"
    }
   ],
   "source": [
    "len(get_sentences(files[0]))"
   ]
  },
  {
   "cell_type": "code",
   "execution_count": 13,
   "metadata": {},
   "outputs": [],
   "source": [
    "from torch.utils.data import Dataset, DataLoader"
   ]
  },
  {
   "cell_type": "code",
   "execution_count": null,
   "metadata": {},
   "outputs": [],
   "source": [
    "class SegmentationDataset(Dataset):\n",
    "    def __init__(self, root_dir: str):\n",
    "        self.examples = []\n",
    "        self.targets = []\n",
    "        all_objects = Path(root_dir).glob('**/*')\n",
    "        filenames = [str(p) for p in all_objects if p.is_file()]\n",
    "        for filename in filenames:\n",
    "            file = open(str(filename), \"r\")\n",
    "            raw_content = file.read()\n",
    "            file.close()\n",
    "            clean_txt = raw_content.strip()\n",
    "            sentences = [s for s in clean_txt.split(\"\\n\") if len(s) > 0 and s != \"\\n\"]\n",
    "            self.examples.append(sentences)\n",
    "        max_len = max([len(s) for s in self.examples])\n",
    "        for example in self.examples:\n",
    "            for i in range(1,len(example)):\n",
    "                if example[i - 1] == \n",
    "                \n",
    "    \n",
    "    def __len__(self):\n",
    "        return len(examples)\n",
    "    \n",
    "    def __getitem__(self, idx):\n",
    "        ret_vals = {}\n",
    "        ret_vals[sentences] = self.examples[idx]\n",
    "        ret_vals[target] = self.targets[idx]\n",
    "        return ret_vals"
   ]
  },
  {
   "cell_type": "code",
   "execution_count": null,
   "metadata": {},
   "outputs": [],
   "source": []
  },
  {
   "cell_type": "code",
   "execution_count": null,
   "metadata": {},
   "outputs": [],
   "source": []
  },
  {
   "cell_type": "code",
   "execution_count": null,
   "metadata": {},
   "outputs": [],
   "source": []
  },
  {
   "cell_type": "code",
   "execution_count": null,
   "metadata": {},
   "outputs": [],
   "source": []
  },
  {
   "cell_type": "code",
   "execution_count": null,
   "metadata": {},
   "outputs": [],
   "source": []
  },
  {
   "cell_type": "code",
   "execution_count": null,
   "metadata": {},
   "outputs": [],
   "source": []
  },
  {
   "cell_type": "code",
   "execution_count": null,
   "metadata": {},
   "outputs": [],
   "source": []
  }
 ],
 "metadata": {
  "kernelspec": {
   "display_name": "Python 3",
   "language": "python",
   "name": "python3"
  },
  "language_info": {
   "codemirror_mode": {
    "name": "ipython",
    "version": 3
   },
   "file_extension": ".py",
   "mimetype": "text/x-python",
   "name": "python",
   "nbconvert_exporter": "python",
   "pygments_lexer": "ipython3",
   "version": "3.7.6"
  }
 },
 "nbformat": 4,
 "nbformat_minor": 2
}
